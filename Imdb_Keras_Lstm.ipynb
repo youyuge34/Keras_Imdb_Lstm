{
 "cells": [
  {
   "cell_type": "code",
   "execution_count": 1,
   "metadata": {},
   "outputs": [
    {
     "name": "stderr",
     "output_type": "stream",
     "text": [
      "Using TensorFlow backend.\n"
     ]
    }
   ],
   "source": [
    "from __future__ import print_function\n",
    "\n",
    "from keras.preprocessing import sequence\n",
    "from keras.models import Sequential,Model\n",
    "from keras.layers import Dense, Embedding,Input\n",
    "from keras.layers import LSTM\n",
    "import numpy as np\n",
    "\n",
    "from preprocess_util import load_data"
   ]
  },
  {
   "cell_type": "markdown",
   "metadata": {},
   "source": [
    "## 数据读取与处理"
   ]
  },
  {
   "cell_type": "code",
   "execution_count": 2,
   "metadata": {},
   "outputs": [
    {
     "name": "stdout",
     "output_type": "stream",
     "text": [
      "loading dataset...\n",
      "x_train.shape =  (25000,)\n",
      "x_test.shape =  (25000,)\n",
      "x_train[0]:  [1, 132, 23, 968, 716, 6, 65, 7, 35, 1233, 318, 1929, 232, 19, 6, 2779, 439, 37, 5446, 6, 292, 17, 6, 965, 8244, 7, 6, 117, 250, 11, 2713, 315, 4, 2869, 7, 2, 18, 10443, 33, 86, 240, 24, 8, 2575, 21, 95, 36, 15329, 19, 257, 85, 29, 1068, 8, 570, 2779, 525, 525, 95, 31, 251, 59, 214, 3531, 5, 556, 10, 10, 5, 29, 528, 570, 33, 233, 8, 79, 4, 1060, 10, 10, 198, 691, 4, 65, 7, 132, 23, 968, 21, 535, 49, 194, 1299, 33, 222, 6, 171, 211, 587, 4, 277, 63, 9, 307, 5, 80, 242, 97, 25, 1415, 10, 10, 198, 82, 88, 7, 4, 87, 228, 1335, 2, 1701, 19, 2751, 2, 8639, 3946, 10, 10, 21, 4, 5655, 173, 7, 4, 20, 858, 4, 155, 9, 285, 133, 9, 404, 10, 10, 86, 116, 3387, 2079, 9, 33, 27, 118, 4111, 8281, 5, 1368, 3590, 52, 17, 210, 87, 2, 3717, 5, 480, 185, 10255, 8819, 5, 198, 24, 4, 130, 7, 4, 1029, 10, 10, 95, 216, 4, 627, 63, 9, 6203, 5, 367, 19, 897, 802, 144, 28, 1199, 35, 735, 18, 252, 10, 10, 4, 65, 9, 24, 43, 6, 1060, 20, 4, 65, 9, 1089, 4, 65, 166, 25, 104, 5, 9, 1050, 307, 66, 10, 10, 14, 9, 31, 7, 148, 102, 25, 359, 8, 67, 11, 129, 2646, 33, 222, 280]\n",
      "y_train[0]:  1\n"
     ]
    }
   ],
   "source": [
    "path = 'datasets/imdb.npz'\n",
    "num_words = 20000   #选取前20000个高频的词\n",
    "max_len = 80    #一句句子统一80词\n",
    "batch_size = 32  \n",
    "\n",
    "print('loading dataset...')\n",
    "(x_train, y_train), (x_test, y_test) = load_data(path=path, maxlen=None, seed=37, num_words=num_words)\n",
    "print('x_train.shape = ',x_train.shape)\n",
    "print('x_test.shape = ',x_test.shape)\n",
    "print('x_train[0]: ',x_train[0])\n",
    "print('y_train[0]: ',y_train[0])"
   ]
  },
  {
   "cell_type": "code",
   "execution_count": 3,
   "metadata": {},
   "outputs": [
    {
     "name": "stdout",
     "output_type": "stream",
     "text": [
      "Pad sequences (samples x time)\n",
      "x_train shape: (25000, 80)\n",
      "x_test shape: (25000, 80)\n"
     ]
    }
   ],
   "source": [
    "print('Pad sequences (samples x time)')\n",
    "# 一句句子多于80词剪裁，少于80就补0\n",
    "x_train = sequence.pad_sequences(x_train, maxlen=max_len)\n",
    "x_test = sequence.pad_sequences(x_test, maxlen=max_len)\n",
    "print('x_train shape:', x_train.shape)\n",
    "print('x_test shape:', x_test.shape)"
   ]
  },
  {
   "cell_type": "markdown",
   "metadata": {},
   "source": [
    "## 建立模型"
   ]
  },
  {
   "cell_type": "code",
   "execution_count": 5,
   "metadata": {},
   "outputs": [],
   "source": [
    "x = Input(shape=(max_len,))\n",
    "b = Embedding(num_words,128)(x)\n",
    "lstm = LSTM(32,dropout=0.2,recurrent_dropout=0.2)(b)\n",
    "output = Dense(1,activation='sigmoid')(lstm)\n",
    "\n",
    "model = Model(inputs=x,outputs=output)\n",
    "model.compile(loss='binary_crossentropy',\n",
    "              optimizer='adam',\n",
    "              metrics=['accuracy'])"
   ]
  },
  {
   "cell_type": "markdown",
   "metadata": {},
   "source": [
    "## 喂入数据进行训练"
   ]
  },
  {
   "cell_type": "code",
   "execution_count": 6,
   "metadata": {},
   "outputs": [
    {
     "name": "stdout",
     "output_type": "stream",
     "text": [
      "_________________________________________________________________\n",
      "Layer (type)                 Output Shape              Param #   \n",
      "=================================================================\n",
      "input_2 (InputLayer)         (None, 80)                0         \n",
      "_________________________________________________________________\n",
      "embedding_2 (Embedding)      (None, 80, 128)           2560000   \n",
      "_________________________________________________________________\n",
      "lstm_2 (LSTM)                (None, 32)                20608     \n",
      "_________________________________________________________________\n",
      "dense_2 (Dense)              (None, 1)                 33        \n",
      "=================================================================\n",
      "Total params: 2,580,641\n",
      "Trainable params: 2,580,641\n",
      "Non-trainable params: 0\n",
      "_________________________________________________________________\n"
     ]
    }
   ],
   "source": [
    "model.summary()"
   ]
  },
  {
   "cell_type": "code",
   "execution_count": 7,
   "metadata": {},
   "outputs": [
    {
     "name": "stdout",
     "output_type": "stream",
     "text": [
      "Train on 22500 samples, validate on 2500 samples\n",
      "Epoch 1/15\n",
      "22500/22500 [==============================] - 117s 5ms/step - loss: 0.4733 - acc: 0.7771 - val_loss: 0.3745 - val_acc: 0.8352\n",
      "Epoch 2/15\n",
      "22500/22500 [==============================] - 111s 5ms/step - loss: 0.3097 - acc: 0.8773 - val_loss: 0.3674 - val_acc: 0.8396\n",
      "Epoch 3/15\n",
      "22500/22500 [==============================] - 112s 5ms/step - loss: 0.2231 - acc: 0.9131 - val_loss: 0.4050 - val_acc: 0.8300\n",
      "Epoch 4/15\n",
      "22500/22500 [==============================] - 114s 5ms/step - loss: 0.1638 - acc: 0.9385 - val_loss: 0.4544 - val_acc: 0.8276\n",
      "Epoch 5/15\n",
      "22500/22500 [==============================] - 112s 5ms/step - loss: 0.1210 - acc: 0.9560 - val_loss: 0.5404 - val_acc: 0.8208\n",
      "Epoch 6/15\n",
      "22500/22500 [==============================] - 112s 5ms/step - loss: 0.0888 - acc: 0.9696 - val_loss: 0.6153 - val_acc: 0.8248\n",
      "Epoch 7/15\n",
      "22500/22500 [==============================] - 112s 5ms/step - loss: 0.0711 - acc: 0.9755 - val_loss: 0.7204 - val_acc: 0.8304\n",
      "Epoch 8/15\n",
      "22500/22500 [==============================] - 112s 5ms/step - loss: 0.0527 - acc: 0.9825 - val_loss: 0.7696 - val_acc: 0.8160\n",
      "Epoch 9/15\n",
      "22500/22500 [==============================] - 113s 5ms/step - loss: 0.0400 - acc: 0.9879 - val_loss: 0.8214 - val_acc: 0.8216\n",
      "Epoch 10/15\n",
      "22500/22500 [==============================] - 113s 5ms/step - loss: 0.0299 - acc: 0.9898 - val_loss: 0.8173 - val_acc: 0.8184\n",
      "Epoch 11/15\n",
      "22500/22500 [==============================] - 113s 5ms/step - loss: 0.0231 - acc: 0.9932 - val_loss: 0.9447 - val_acc: 0.8260\n",
      "Epoch 12/15\n",
      "22500/22500 [==============================] - 112s 5ms/step - loss: 0.0202 - acc: 0.9940 - val_loss: 0.9530 - val_acc: 0.8144\n",
      "Epoch 13/15\n",
      "22500/22500 [==============================] - 112s 5ms/step - loss: 0.0166 - acc: 0.9951 - val_loss: 1.0146 - val_acc: 0.8196\n",
      "Epoch 14/15\n",
      "22500/22500 [==============================] - 113s 5ms/step - loss: 0.0128 - acc: 0.9962 - val_loss: 1.0929 - val_acc: 0.8144\n",
      "Epoch 15/15\n",
      "22500/22500 [==============================] - 113s 5ms/step - loss: 0.0103 - acc: 0.9971 - val_loss: 1.1561 - val_acc: 0.8180\n",
      "25000/25000 [==============================] - 16s 652us/step\n",
      "Test score: 1.1735811022949219\n",
      "Test accuracy: 0.80728\n"
     ]
    }
   ],
   "source": [
    "model.fit(x_train, y_train,\n",
    "          batch_size=batch_size,\n",
    "          epochs=15,\n",
    "          validation_split=0.1)\n",
    "score, acc = model.evaluate(x_test, y_test,\n",
    "                            batch_size=batch_size)\n",
    "print('Test score:', score)\n",
    "print('Test accuracy:', acc)"
   ]
  },
  {
   "cell_type": "code",
   "execution_count": null,
   "metadata": {},
   "outputs": [],
   "source": []
  }
 ],
 "metadata": {
  "kernelspec": {
   "display_name": "Python 3",
   "language": "python",
   "name": "python3"
  },
  "language_info": {
   "codemirror_mode": {
    "name": "ipython",
    "version": 3
   },
   "file_extension": ".py",
   "mimetype": "text/x-python",
   "name": "python",
   "nbconvert_exporter": "python",
   "pygments_lexer": "ipython3",
   "version": "3.5.4"
  }
 },
 "nbformat": 4,
 "nbformat_minor": 2
}
